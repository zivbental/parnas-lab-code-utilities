{
 "cells": [
  {
   "cell_type": "markdown",
   "id": "e96a772e",
   "metadata": {},
   "source": [
    "# Voltage‑dependent dose–response analysis\n",
    "A step‑by‑step notebook that mirrors the procedure used in *Tauber & Ben‑Chaim 2022*.\n",
    "\n",
    "Fill in your own data (CSV or manual entry) and run each cell one‑by‑one.\n",
    "Feel free to save this notebook under a new name for your experiments."
   ]
  },
  {
   "cell_type": "code",
   "execution_count": 35,
   "id": "b160e506",
   "metadata": {},
   "outputs": [],
   "source": [
    "import pandas as pd\n",
    "import numpy as np\n",
    "import matplotlib.pyplot as plt\n",
    "from scipy.optimize import curve_fit\n",
    "from scipy import stats\n",
    "plt.rcParams['figure.dpi'] = 120  # sharper plots\n"
   ]
  },
  {
   "cell_type": "markdown",
   "id": "260671f1",
   "metadata": {},
   "source": [
    "## 1  Load or paste your normalised data\n",
    "Create a CSV with **three columns**:\n",
    "* `holding` – the holding potential in mV (e.g. -80, -10, +40 …)\n",
    "* `conc_nM` – concentration in **nM** (numeric)\n",
    "* `resp` – normalised response (0–1)\n",
    "\n",
    "Example rows:\n",
    "```csv\n",
    "holding,conc_nM,resp\n",
    "-80,1,0.05\n",
    "-80,10,0.45\n",
    "-10,10,0.28\n",
    "```\n",
    "If you already have a DataFrame in memory, skip the next cell."
   ]
  },
  {
   "cell_type": "code",
   "execution_count": 66,
   "id": "c21c3e8f",
   "metadata": {},
   "outputs": [
    {
     "name": "stdout",
     "output_type": "stream",
     "text": [
      "Tidy dose-response table ready for fitting:\n"
     ]
    },
    {
     "data": {
      "text/html": [
       "<div>\n",
       "<style scoped>\n",
       "    .dataframe tbody tr th:only-of-type {\n",
       "        vertical-align: middle;\n",
       "    }\n",
       "\n",
       "    .dataframe tbody tr th {\n",
       "        vertical-align: top;\n",
       "    }\n",
       "\n",
       "    .dataframe thead th {\n",
       "        text-align: right;\n",
       "    }\n",
       "</style>\n",
       "<table border=\"1\" class=\"dataframe\">\n",
       "  <thead>\n",
       "    <tr style=\"text-align: right;\">\n",
       "      <th></th>\n",
       "      <th>holding</th>\n",
       "      <th>conc_nM</th>\n",
       "      <th>resp</th>\n",
       "    </tr>\n",
       "  </thead>\n",
       "  <tbody>\n",
       "    <tr>\n",
       "      <th>0</th>\n",
       "      <td>-80.0</td>\n",
       "      <td>0</td>\n",
       "      <td>0.0</td>\n",
       "    </tr>\n",
       "    <tr>\n",
       "      <th>1</th>\n",
       "      <td>-80.0</td>\n",
       "      <td>0</td>\n",
       "      <td>0.0</td>\n",
       "    </tr>\n",
       "    <tr>\n",
       "      <th>2</th>\n",
       "      <td>-80.0</td>\n",
       "      <td>0</td>\n",
       "      <td>0.0</td>\n",
       "    </tr>\n",
       "    <tr>\n",
       "      <th>3</th>\n",
       "      <td>-80.0</td>\n",
       "      <td>0</td>\n",
       "      <td>0.0</td>\n",
       "    </tr>\n",
       "    <tr>\n",
       "      <th>4</th>\n",
       "      <td>-80.0</td>\n",
       "      <td>0</td>\n",
       "      <td>0.0</td>\n",
       "    </tr>\n",
       "  </tbody>\n",
       "</table>\n",
       "</div>"
      ],
      "text/plain": [
       "   holding  conc_nM  resp\n",
       "0    -80.0        0   0.0\n",
       "1    -80.0        0   0.0\n",
       "2    -80.0        0   0.0\n",
       "3    -80.0        0   0.0\n",
       "4    -80.0        0   0.0"
      ]
     },
     "metadata": {},
     "output_type": "display_data"
    }
   ],
   "source": [
    "# ------------------------------------------------------------------\n",
    "# 0.  Convert the wide “Patch Data” sheet ➞ tidy long table\n",
    "# ------------------------------------------------------------------\n",
    "import pandas as pd, re, numpy as np, pathlib\n",
    "\n",
    "raw_file = \"patch_data.xlsx\"   # <-- put your filename here\n",
    "raw = pd.read_excel(raw_file, header=None)          # read *exactly* as laid out\n",
    "\n",
    "# ── locate the “Normalized” block ───────────────────────────────────────\n",
    "first_row = raw.iloc[0]\n",
    "norm_start = first_row[first_row.eq(\"Normalized\")].index\n",
    "if len(norm_start) == 0:\n",
    "    raise ValueError(\"Couldn’t find the header cell 'Normalized'.\")\n",
    "norm_col0 = norm_start[0]\n",
    "\n",
    "# take columns whose second-row header contains “nM”\n",
    "norm_cols = [c for c in range(norm_col0, raw.shape[1])\n",
    "             if isinstance(raw.iloc[1, c], str) and \"nM\" in raw.iloc[1, c]]\n",
    "\n",
    "# concentration labels (e.g. '1nM', '10nM'…)\n",
    "conc_labels = raw.iloc[1, norm_cols].tolist()\n",
    "\n",
    "# ── build tidy records ─────────────────────────────────────────────────\n",
    "tidy_rows = []\n",
    "data = raw.iloc[2:]                       # actual data start on row index 2\n",
    "for _, r in data.iterrows():\n",
    "    holding = r[1]                        # column 1 = Holding Potential\n",
    "    if pd.isna(holding):\n",
    "        continue\n",
    "    for c_idx, c_label in zip(norm_cols, conc_labels):\n",
    "        resp = r[c_idx]\n",
    "        if pd.isna(resp):                 # skip blanks\n",
    "            continue\n",
    "        # force numeric\n",
    "        try:\n",
    "            resp = float(resp)\n",
    "        except ValueError:\n",
    "            continue\n",
    "        conc_nM = int(re.findall(r\"\\d+\", c_label)[0])   # '10nM' → 10\n",
    "        tidy_rows.append({\"holding\": float(holding),\n",
    "                          \"conc_nM\": conc_nM,\n",
    "                          \"resp\": resp})\n",
    "\n",
    "df = (pd.DataFrame(tidy_rows)\n",
    "        .sort_values([\"holding\", \"conc_nM\"])\n",
    "        .reset_index(drop=True))\n",
    "\n",
    "print(\"Tidy dose-response table ready for fitting:\")\n",
    "display(df.head())\n",
    "\n",
    "# optional: write to CSV for record-keeping\n",
    "df.to_csv(\"dose_tidy.csv\", index=False)\n"
   ]
  },
  {
   "cell_type": "code",
   "execution_count": 67,
   "id": "800930fe",
   "metadata": {},
   "outputs": [],
   "source": [
    "# Replace 'my_data.csv' with your file path\n",
    "df = pd.read_csv('dose_tidy.csv')\n",
    "# Uncomment below to preview\n",
    "# df.head()\n"
   ]
  },
  {
   "cell_type": "code",
   "execution_count": 68,
   "id": "3c6d0c1a",
   "metadata": {},
   "outputs": [
    {
     "data": {
      "text/html": [
       "<div>\n",
       "<style scoped>\n",
       "    .dataframe tbody tr th:only-of-type {\n",
       "        vertical-align: middle;\n",
       "    }\n",
       "\n",
       "    .dataframe tbody tr th {\n",
       "        vertical-align: top;\n",
       "    }\n",
       "\n",
       "    .dataframe thead th {\n",
       "        text-align: right;\n",
       "    }\n",
       "</style>\n",
       "<table border=\"1\" class=\"dataframe\">\n",
       "  <thead>\n",
       "    <tr style=\"text-align: right;\">\n",
       "      <th></th>\n",
       "      <th>holding</th>\n",
       "      <th>conc_nM</th>\n",
       "      <th>resp</th>\n",
       "    </tr>\n",
       "  </thead>\n",
       "  <tbody>\n",
       "    <tr>\n",
       "      <th>0</th>\n",
       "      <td>-80.0</td>\n",
       "      <td>0</td>\n",
       "      <td>0.0</td>\n",
       "    </tr>\n",
       "    <tr>\n",
       "      <th>1</th>\n",
       "      <td>-80.0</td>\n",
       "      <td>0</td>\n",
       "      <td>0.0</td>\n",
       "    </tr>\n",
       "    <tr>\n",
       "      <th>2</th>\n",
       "      <td>-80.0</td>\n",
       "      <td>0</td>\n",
       "      <td>0.0</td>\n",
       "    </tr>\n",
       "    <tr>\n",
       "      <th>3</th>\n",
       "      <td>-80.0</td>\n",
       "      <td>0</td>\n",
       "      <td>0.0</td>\n",
       "    </tr>\n",
       "    <tr>\n",
       "      <th>4</th>\n",
       "      <td>-80.0</td>\n",
       "      <td>0</td>\n",
       "      <td>0.0</td>\n",
       "    </tr>\n",
       "  </tbody>\n",
       "</table>\n",
       "</div>"
      ],
      "text/plain": [
       "   holding  conc_nM  resp\n",
       "0    -80.0        0   0.0\n",
       "1    -80.0        0   0.0\n",
       "2    -80.0        0   0.0\n",
       "3    -80.0        0   0.0\n",
       "4    -80.0        0   0.0"
      ]
     },
     "execution_count": 68,
     "metadata": {},
     "output_type": "execute_result"
    }
   ],
   "source": [
    "df.head()"
   ]
  },
  {
   "cell_type": "markdown",
   "id": "8a137c35",
   "metadata": {},
   "source": [
    "## 2  Define the Hill equation"
   ]
  },
  {
   "cell_type": "code",
   "execution_count": 69,
   "id": "1105eede",
   "metadata": {},
   "outputs": [],
   "source": [
    "def hill(x, ec50, nH=1.0, top=1.0, bottom=0.0):\n",
    "    \"\"\"Four-parameter logistic with fixed top/bottom.\"\"\"\n",
    "    return bottom + (top-bottom) * (x**nH) / (x**nH + ec50**nH)\n"
   ]
  },
  {
   "cell_type": "markdown",
   "id": "fe5ffe5a",
   "metadata": {},
   "source": [
    "## 3  Fit each voltage separately"
   ]
  },
  {
   "cell_type": "code",
   "execution_count": 70,
   "id": "a89b4aaa",
   "metadata": {},
   "outputs": [
    {
     "name": "stdout",
     "output_type": "stream",
     "text": [
      "Separate-fit EC50 (nM):\n",
      "  -80.0 mV   10.14\n",
      "  -10.0 mV   37.58\n"
     ]
    }
   ],
   "source": [
    "results = {}      # will hold EC50 values keyed by holding potential\n",
    "rss     = {}      # will hold residual sum-of-squares keyed the same way\n",
    "\n",
    "for V in df['holding'].unique():     # iterate over each distinct voltage\n",
    "    x = df.loc[df.holding==V, 'conc_nM'].values   # concentrations for this V\n",
    "    y = df.loc[df.holding==V, 'resp'].values      # responses   for this V\n",
    "\n",
    "    # ---- Non-linear least-squares fit ------------------------------\n",
    "    # • hill(x, ec50) is our model (Hill slope fixed at 1).\n",
    "    # • lambda x,e: hill(x,e) tells curve_fit “fit ONE parameter = e”.\n",
    "    # • bounds=(0,∞) constrains EC50 to positive values.\n",
    "    popt, _ = curve_fit(lambda x,e: hill(x, e), x, y, bounds=(0, np.inf))\n",
    "    ec50 = popt[0]                    # popt is a 1-element array\n",
    "\n",
    "    results[V] = ec50                # store EC50 for this voltage\n",
    "\n",
    "    # ---- Compute residual sum-of-squares ---------------------------\n",
    "    residuals = y - hill(x, ec50)     # y_i − ŷ_i\n",
    "    rss[V] = np.sum(residuals**2)     # Σ(residual²)\n",
    "\n",
    "# Pretty-print what we found\n",
    "print(\"Separate-fit EC50 (nM):\")\n",
    "for V, ec in results.items():\n",
    "    print(f\"  {V:+} mV   {ec:.2f}\")\n"
   ]
  },
  {
   "cell_type": "markdown",
   "id": "b87409d6",
   "metadata": {},
   "source": [
    "## 4  Extra‑sum‑of‑squares F‑test (are EC₅₀s different?)"
   ]
  },
  {
   "cell_type": "code",
   "execution_count": 71,
   "id": "6e904333",
   "metadata": {},
   "outputs": [
    {
     "name": "stdout",
     "output_type": "stream",
     "text": [
      "F = 28.833,  p = 1.0329e-06\n"
     ]
    }
   ],
   "source": [
    "# --- Extra-sum-of-squares F-test: are the curves (EC50 values) different? ---\n",
    "\n",
    "x_all = df['conc_nM'].values\n",
    "y_all = df['resp'].values\n",
    "\n",
    "# Fit a single (global) Hill curve — one shared EC50\n",
    "ec50_global, _ = curve_fit(lambda x, e: hill(x, e), x_all, y_all,\n",
    "                           bounds=(0, np.inf))\n",
    "rss_global = np.sum((y_all - hill(x_all, ec50_global))**2)\n",
    "\n",
    "# Degrees-of-freedom bookkeeping\n",
    "k_sep = len(results)          # parameters in the separate model (one EC50 per voltage)\n",
    "k_glob = 1                    # parameters in the global model (shared EC50)\n",
    "df_num = k_sep - k_glob       # numerator d.f.  = # extra parameters\n",
    "df_den = len(y_all) - k_sep   # denominator d.f. = N − parameters_separate\n",
    "\n",
    "# Residual sum-of-squares for the separate fits\n",
    "RSS_sep = sum(rss.values())\n",
    "\n",
    "# F statistic\n",
    "F = ((rss_global - RSS_sep) / df_num) / (RSS_sep / df_den)\n",
    "\n",
    "# p-value\n",
    "p = 1 - stats.f.cdf(F, df_num, df_den)\n",
    "\n",
    "print(f'F = {F:.3f},  p = {p:.4e}')\n"
   ]
  },
  {
   "cell_type": "markdown",
   "id": "afae039b",
   "metadata": {},
   "source": [
    "## 5  Plot curves + data"
   ]
  },
  {
   "cell_type": "code",
   "execution_count": 72,
   "id": "cf60b776",
   "metadata": {},
   "outputs": [
    {
     "data": {
      "image/png": "[encoded data removed]",
      "text/plain": [
       "<Figure size 720x480 with 1 Axes>"
      ]
     },
     "metadata": {},
     "output_type": "display_data"
    }
   ],
   "source": [
    "# ------------------------------------------------------------------\n",
    "# 0.  Assumptions\n",
    "# ------------------------------------------------------------------\n",
    "# • `df` is a pandas DataFrame with columns:\n",
    "#       holding   — holding potential (mV)\n",
    "#       conc_nM   — agonist concentration (nM, can include 0)\n",
    "#       resp      — normalised response (0–1)\n",
    "# • `hill(x, ec50, nH=1, top=1, bottom=0)` is already defined\n",
    "# ------------------------------------------------------------------\n",
    "\n",
    "\n",
    "# ------------------------------------------------------------------\n",
    "# 1.  Collapse replicates → mean ± SEM   (exclude 0-nM rows for fitting)\n",
    "# ------------------------------------------------------------------\n",
    "stats_df = (\n",
    "    df[df['conc_nM'] > 0]                       # non-zero only\n",
    "      .groupby(['holding', 'conc_nM'])\n",
    "      .agg(mean_resp=('resp', 'mean'),\n",
    "           sem_resp =('resp', lambda x: x.std(ddof=1)/np.sqrt(len(x))))\n",
    "      .reset_index()\n",
    ")\n",
    "\n",
    "\n",
    "# ------------------------------------------------------------------\n",
    "# 2.  Fit EC50 to the mean points of each holding potential\n",
    "# ------------------------------------------------------------------\n",
    "EC50 = {}\n",
    "for V in stats_df['holding'].unique():\n",
    "    sub = stats_df[stats_df['holding'] == V]\n",
    "    popt, _ = curve_fit(lambda x, e: hill(x, e),\n",
    "                        sub['conc_nM'].values,\n",
    "                        sub['mean_resp'].values,\n",
    "                        bounds=(0, np.inf))\n",
    "    EC50[V] = popt[0]\n",
    "\n",
    "\n",
    "# ------------------------------------------------------------------\n",
    "# 3.  Plot: mean ± SEM and curve fit (plus one extra decade lower)\n",
    "# ------------------------------------------------------------------\n",
    "x_min   = stats_df['conc_nM'].min()           # smallest non-zero conc\n",
    "x_max   = stats_df['conc_nM'].max()\n",
    "x_lower = x_min / 10                          # one log-decade left\n",
    "\n",
    "plt.figure(figsize=(6, 4))\n",
    "color_cycle = plt.cm.tab10.colors            # distinct colours\n",
    "\n",
    "for V, color in zip(sorted(EC50.keys()), color_cycle):\n",
    "    # ----- dashed extrapolation below measured range -----\n",
    "    x_left = np.logspace(np.log10(x_lower), np.log10(x_min), 100)\n",
    "    plt.semilogx(x_left, hill(x_left, EC50[V]), ls='--', lw=1.5, color=color)\n",
    "\n",
    "    # ----- solid curve over measured range -----\n",
    "    x_main = np.logspace(np.log10(x_min), np.log10(x_max), 600)\n",
    "    plt.semilogx(x_main, hill(x_main, EC50[V]), lw=2, color=color,\n",
    "                 label=f'{V:+} mV  fit (EC₅₀ ≈ {EC50[V]:.1f} nM)')\n",
    "\n",
    "    # ----- mean ± SEM points -----\n",
    "    sub = stats_df[stats_df['holding'] == V]\n",
    "    plt.errorbar(sub['conc_nM'], sub['mean_resp'], yerr=sub['sem_resp'],\n",
    "                 fmt='o', ms=6, capsize=3, color=color)\n",
    "\n",
    "plt.xlabel('Concentration (nM)')\n",
    "plt.ylabel('Normalised response')\n",
    "plt.xlim(x_lower * 0.8, x_max * 1.2)\n",
    "plt.ylim(-0.05, 1.05)\n",
    "plt.grid(True, which='both', ls=':')\n",
    "plt.legend()\n",
    "plt.tight_layout()\n",
    "plt.show()\n"
   ]
  },
  {
   "cell_type": "code",
   "execution_count": null,
   "id": "9ea077ea",
   "metadata": {},
   "outputs": [],
   "source": []
  }
 ],
 "metadata": {
  "kernelspec": {
   "display_name": ".venv",
   "language": "python",
   "name": "python3"
  },
  "language_info": {
   "codemirror_mode": {
    "name": "ipython",
    "version": 3
   },
   "file_extension": ".py",
   "mimetype": "text/x-python",
   "name": "python",
   "nbconvert_exporter": "python",
   "pygments_lexer": "ipython3",
   "version": "3.11.9"
  }
 },
 "nbformat": 4,
 "nbformat_minor": 5
}
